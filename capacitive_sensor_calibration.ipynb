{
 "cells": [
  {
   "cell_type": "code",
   "execution_count": 1,
   "id": "36c35c10",
   "metadata": {},
   "outputs": [
    {
     "name": "stderr",
     "output_type": "stream",
     "text": [
      "/usr/lib/python3/dist-packages/scipy/__init__.py:146: UserWarning: A NumPy version >=1.17.3 and <1.25.0 is required for this version of SciPy (detected version 1.25.2\n",
      "  warnings.warn(f\"A NumPy version >={np_minversion} and <{np_maxversion}\"\n"
     ]
    }
   ],
   "source": [
    "import numpy as np\n",
    "import matplotlib.pyplot as plt\n",
    "from scipy.optimize import curve_fit"
   ]
  },
  {
   "cell_type": "code",
   "execution_count": 38,
   "id": "3aca4848",
   "metadata": {},
   "outputs": [],
   "source": [
    "# We are calibrating our capacitive depth sensor by measuring the time it takes to charge the capacitor to a \n",
    "# threshold 0f 90%, and then discharge it to the same threshold. To enhance precision, each measurement \n",
    "# involves cycling the sensor 100 times, and then taking the mean value\n",
    "# Data collected in depth increments of 5cm, from 0 - 25cm. The time interval is measured in microseconds (µs)\n",
    "\n",
    "cycle_time_0cm = np.array([478.02, 485.34, 477.31, 478.03, 471.06, 470.89, 476.61, 472.25, 478.01, 473.75,\n",
    "                           469.27, 470.15, 475.07, 478.68, 477.57, 478.23, 476.27, 470.19, 473.15, 475.99,\n",
    "                           470.59, 472.36, 471.45])\n",
    "cycle_time_5cm = np.array([557.14, 555.03, 562, 556.36, 557.28, 565.44, 567.75, 561.11, 562.38, 564.38, \n",
    "                           566, 568.41, 564.82, 559.67, 563.02, 557.85, 568.16, 564.72, 562.9, 562.11,\n",
    "                           557.15, 557.85, 562.08])\n",
    "cycle_time_10cm = np.array([605.94, 612.13, 607.53, 611.15, 613.14, 605.68, 604.04, 613.16, 611.56, 607.57,\n",
    "                            608.74, 612.08, 615.77, 614.97, 593.77, 604.21, 608.87, 606.73, 606.82, 611.54,\n",
    "                            599.95, 606.28, 612.82])\n",
    "cycle_time_15cm = np.array([694.04, 688.02, 690.05, 682.15, 685.53, 695.58, 686.06, 683.32, 679.1, 682.98,\n",
    "                            680.84, 691.85, 684.93, 685.66, 689.01, 698.48, 691.37, 690.12, 684.61, 684.04,\n",
    "                            686.6, 686.37, 698.96])\n",
    "cycle_time_20cm = np.array([781.92, 774.53, 777.38, 764.64, 770.43, 775.66, 778.86, 773.7, 781.55, 786.6,\n",
    "                            785.24, 777.15, 765.14, 772.69, 760.56, 770.83, 765.45, 761.5, 760.49, 758.87,\n",
    "                            759.28, 757.41, 763.58])\n",
    "cycle_time_25cm = np.array([852.14, 855.62, 858.79, 884.16, 864.17, 844.39, 845.93, 868.77, 864.1, 855.99,\n",
    "                            859.1, 851.42, 884.73, 893.26, 873.17, 870.11, 899.48, 883.5, 897.44, 876.82,\n",
    "                            886.92, 900.49, 882.34])"
   ]
  },
  {
   "cell_type": "code",
   "execution_count": 39,
   "id": "19ae1c36",
   "metadata": {},
   "outputs": [
    {
     "name": "stdout",
     "output_type": "stream",
     "text": [
      "Set 0cm : Mean = 474.79, Std Dev = 3.83\n",
      "Set 5cm : Mean = 561.90, Std Dev = 3.92\n",
      "Set 10cm: Mean = 608.45, Std Dev = 4.95\n",
      "Set 15cm: Mean = 687.81, Std Dev = 5.22\n",
      "Set 20cm: Mean = 770.59, Std Dev = 8.84\n",
      "Set 25cm: Mean = 871.86, Std Dev = 17.10\n"
     ]
    }
   ],
   "source": [
    "# Calculate Standard deviation\n",
    "std_dev_set_0cm = np.std(cycle_time_0cm)\n",
    "std_dev_set_5cm = np.std(cycle_time_5cm)\n",
    "std_dev_set_10cm = np.std(cycle_time_10cm)\n",
    "std_dev_set_15cm = np.std(cycle_time_15cm)\n",
    "std_dev_set_20cm = np.std(cycle_time_20cm)\n",
    "std_dev_set_25cm = np.std(cycle_time_25cm)\n",
    "\n",
    "# Calculate mean for each set\n",
    "mean_set_0cm = np.mean(cycle_time_0cm)\n",
    "mean_set_5cm = np.mean(cycle_time_5cm)\n",
    "mean_set_10cm = np.mean(cycle_time_10cm)\n",
    "mean_set_15cm = np.mean(cycle_time_15cm)\n",
    "mean_set_20cm = np.mean(cycle_time_20cm)\n",
    "mean_set_25cm = np.mean(cycle_time_25cm)\n",
    "\n",
    "# Display standard deviation with two decimal places, and mean for context\n",
    "print(f\"Set 0cm : Mean = {mean_set_0cm:.2f}, Std Dev = {std_dev_set_0cm:.2f}\")\n",
    "print(f\"Set 5cm : Mean = {mean_set_5cm:.2f}, Std Dev = {std_dev_set_5cm:.2f}\")\n",
    "print(f\"Set 10cm: Mean = {mean_set_10cm:.2f}, Std Dev = {std_dev_set_10cm:.2f}\")\n",
    "print(f\"Set 15cm: Mean = {mean_set_15cm:.2f}, Std Dev = {std_dev_set_15cm:.2f}\")\n",
    "print(f\"Set 20cm: Mean = {mean_set_20cm:.2f}, Std Dev = {std_dev_set_20cm:.2f}\")\n",
    "print(f\"Set 25cm: Mean = {mean_set_25cm:.2f}, Std Dev = {std_dev_set_25cm:.2f}\")\n",
    "\n"
   ]
  },
  {
   "cell_type": "code",
   "execution_count": 46,
   "id": "e927a6b5",
   "metadata": {},
   "outputs": [
    {
     "data": {
      "image/png": "[encoded data removed]",
      "text/plain": [
       "<Figure size 864x576 with 6 Axes>"
      ]
     },
     "metadata": {
      "needs_background": "light"
     },
     "output_type": "display_data"
    }
   ],
   "source": [
    "# Visualizing Cycle Time Distributions at Different Fluid Depths\n",
    "\n",
    "# In this set of histograms, we visualize the distribution of cycle times obtained from our capacitive depth sensor\n",
    "# at various fluid depths. Each subplot represents a different fluid depth, and the histograms provide insights into\n",
    "# the frequency distribution of cycle times at each depth. The x-axis represents cycle time, and the y-axis\n",
    "# represents the frequency of occurrences.\n",
    "\n",
    "# Create a list of all data collections\n",
    "all_data_collections = [cycle_time_0cm, cycle_time_5cm, cycle_time_10cm, cycle_time_15cm, cycle_time_15cm, \n",
    "                        cycle_time_25cm]\n",
    "\n",
    "# Manually provide a list of titles\n",
    "titles = ['Distribution - 0cm', 'Distribution - 5cm', 'Distribution - 10cm', 'Distribution - 15cm', \n",
    "          'Distribution - 20cm', 'Distribution - 25cm']\n",
    "\n",
    "# Plot histograms for all data collections\n",
    "plt.figure(figsize=(12, 8))  # Adjust the figure size as needed\n",
    "\n",
    "for i, data_collection in enumerate(all_data_collections):\n",
    "    plt.subplot(2, 3, i + 1)  # Adjust the layout as needed\n",
    "    plt.hist(data_collection, bins=20, edgecolor='black')\n",
    "    plt.xlabel('Cycle Time')\n",
    "    plt.ylabel('Frequency')\n",
    "    \n",
    "    # Use the manually provided titles\n",
    "    plt.title(titles[i])\n",
    "\n",
    "plt.tight_layout()\n",
    "plt.show()"
   ]
  },
  {
   "cell_type": "code",
   "execution_count": 29,
   "id": "de8feb9c",
   "metadata": {},
   "outputs": [],
   "source": [
    "fluid_levels = np.array([0, 5, 10, 15, 20, 25])\n",
    "capacitance_readings = np.array([mean_set_0cm, mean_set_5cm, mean_set_10cm, mean_set_15cm, mean_set_20cm, \n",
    "                                 mean_set_25cm])"
   ]
  },
  {
   "cell_type": "code",
   "execution_count": 30,
   "id": "f4397c27",
   "metadata": {},
   "outputs": [],
   "source": [
    "def linear_equation(x, m, b):\n",
    "    \"\"\"\n",
    "    Computes the linear equation y = mx + b.\n",
    "\n",
    "    Parameters:\n",
    "    - x (array-like): Independent variable.\n",
    "    - m (float): Slope of the line.\n",
    "    - b (float): Y-intercept of the line.\n",
    "\n",
    "    Returns:\n",
    "    float: Dependent variable values based on the linear equation.\n",
    "    \"\"\"\n",
    "    return m * x + b"
   ]
  },
  {
   "cell_type": "code",
   "execution_count": null,
   "id": "cd7c8bd6",
   "metadata": {},
   "outputs": [],
   "source": [
    "fluid_levels = np.array([0, 5, 10, 15, 20, 25])\n",
    "capacitance_readings = np.array([mean_set_0cm, mean_set_5cm, mean_set_10cm, mean_set_15cm, mean_set_20cm, \n",
    "                                 mean_set_25cm])"
   ]
  },
  {
   "cell_type": "code",
   "execution_count": 35,
   "id": "f92732af",
   "metadata": {},
   "outputs": [
    {
     "data": {
      "image/png": "[encoded data removed]",
      "text/plain": [
       "<Figure size 432x288 with 1 Axes>"
      ]
     },
     "metadata": {
      "needs_background": "light"
     },
     "output_type": "display_data"
    }
   ],
   "source": [
    "# Scatter plot depicting the relationship between Fluid Depth (cm) and Cycle Time (μs)\n",
    "# Each data point represents a specific fluid depth, and the red dashed line represents the fitted\n",
    "# line based on the proposed linear equation. \n",
    "\n",
    "plt.scatter(fluid_levels, capacitance_readings, label='Original Data')\n",
    "plt.plot(fluid_levels, linear_equation(fluid_levels, *params), 'r--', label='Fitted Line')\n",
    "plt.xlabel('Depth cm')\n",
    "plt.ylabel('Cycle Time μs')\n",
    "plt.legend()\n",
    "plt.show()\n"
   ]
  },
  {
   "cell_type": "code",
   "execution_count": 37,
   "id": "af159051",
   "metadata": {},
   "outputs": [
    {
     "name": "stdout",
     "output_type": "stream",
     "text": [
      "Optimized Parameters (m, b): [ 15.37584349 470.3691303 ]\n",
      "Covariance Matrix:\n",
      "[[  0.57114766  -7.13934566]\n",
      " [ -7.13934566 130.88800325]]\n"
     ]
    }
   ],
   "source": [
    "print('Optimized Parameters (m, b):', params)\n",
    "print('Covariance Matrix:')\n",
    "print(covariance)"
   ]
  },
  {
   "cell_type": "code",
   "execution_count": null,
   "id": "d59b9cdd",
   "metadata": {},
   "outputs": [],
   "source": [
    "# Conclusion:\n",
    "\n",
    "# In this analysis, we calibrated our capacitive depth sensor by measuring cycle times at various fluid depths.\n",
    "# The proposed linear equation, cycle_time = 15.4(depth) + 470, was fitted to the data, and the resulting\n",
    "# relationship provides a valuable tool for estimating fluid depth based on cycle time.\n",
    "\n",
    "# cycle_time = 15.4(depth) + 470\n",
    "# depth = (cycle_time - 470) / 15.37"
   ]
  }
 ],
 "metadata": {
  "kernelspec": {
   "display_name": "Python 3 (ipykernel)",
   "language": "python",
   "name": "python3"
  },
  "language_info": {
   "codemirror_mode": {
    "name": "ipython",
    "version": 3
   },
   "file_extension": ".py",
   "mimetype": "text/x-python",
   "name": "python",
   "nbconvert_exporter": "python",
   "pygments_lexer": "ipython3",
   "version": "3.10.12"
  }
 },
 "nbformat": 4,
 "nbformat_minor": 5
}
